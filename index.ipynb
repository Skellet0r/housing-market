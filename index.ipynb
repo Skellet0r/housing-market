{
 "cells": [
  {
   "cell_type": "markdown",
   "metadata": {},
   "source": [
    "<b style=\"font-size:2em;\">Final Project Submission</b>\n",
    "\n",
    "* Student name: Edward Amor \n",
    "* Student pace: part time\n",
    "* Scheduled project review date/time: \n",
    "* Instructor name: Victor Geislinger\n",
    "* Blog post URL: "
   ]
  },
  {
   "cell_type": "markdown",
   "metadata": {
    "heading_collapsed": true
   },
   "source": [
    "# Business Understanding"
   ]
  },
  {
   "cell_type": "markdown",
   "metadata": {
    "heading_collapsed": true,
    "hidden": true
   },
   "source": [
    "## Background"
   ]
  },
  {
   "cell_type": "markdown",
   "metadata": {
    "hidden": true
   },
   "source": [
    "A real estate company in the King County area wants to investigate house sales in order to predict pricing. Our task is to clean, explore, and model the housing data they have supplied to us in `kc_house_data.csv`, and identify house features which significantly effect house price. "
   ]
  },
  {
   "cell_type": "markdown",
   "metadata": {
    "heading_collapsed": true,
    "hidden": true
   },
   "source": [
    "## Scope"
   ]
  },
  {
   "cell_type": "markdown",
   "metadata": {
    "hidden": true
   },
   "source": [
    "To identify which house features significantly effect house price, we will use standard EDA practices, hypothesis testing, and regression modeling to come to our conclusions.\n",
    "\n",
    "For our client's consumption the results of our analysis will be condensed into a presentation. "
   ]
  },
  {
   "cell_type": "markdown",
   "metadata": {
    "heading_collapsed": true,
    "hidden": true
   },
   "source": [
    "## Goal"
   ]
  },
  {
   "cell_type": "markdown",
   "metadata": {
    "hidden": true
   },
   "source": [
    "Our goal is to generate a multivariate linear regression model which as accurately as possible predicts the sale price of houses.  "
   ]
  },
  {
   "cell_type": "markdown",
   "metadata": {
    "heading_collapsed": true,
    "hidden": true
   },
   "source": [
    "## Objectives"
   ]
  },
  {
   "cell_type": "markdown",
   "metadata": {
    "hidden": true
   },
   "source": [
    "1. Data Acquisition\n",
    "2. Data Understanding\n",
    "  - Data Cleaning\n",
    "  - Data Exploration\n",
    "  - Data Visualization\n",
    "3. Modeling\n",
    "  - Feature Engineering\n",
    "    - Feature Transformation\n",
    "    - Feature Selection\n",
    "  - Training\n",
    "  - Model Evaluation"
   ]
  },
  {
   "cell_type": "markdown",
   "metadata": {
    "heading_collapsed": true
   },
   "source": [
    "# Data Acquisition"
   ]
  },
  {
   "cell_type": "markdown",
   "metadata": {
    "hidden": true
   },
   "source": [
    "The data for this project can be found in the file `kc_house_data.csv`.\n",
    "\n",
    "Within this repository is also `data_dictionary.csv` which describes the data features."
   ]
  },
  {
   "cell_type": "markdown",
   "metadata": {},
   "source": [
    "# Data Understanding"
   ]
  },
  {
   "cell_type": "markdown",
   "metadata": {},
   "source": [
    "According to our data dictionary the features of our dataset are as follows:\n",
    "\n",
    "| column        | description                                                  |\n",
    "| ------------- | ------------------------------------------------------------ |\n",
    "| id            | unique identified for a house                                |\n",
    "| date          | Date house was sold                                          |\n",
    "| price         | Price is prediction target                                   |\n",
    "| bedrooms      | Number of Bedrooms/House                                     |\n",
    "| bathrooms     | Number of bathrooms/bedrooms                                 |\n",
    "| sqft_living   | square footage of the home                                   |\n",
    "| sqft_lot      | square footage of the lot                                    |\n",
    "| floors        | Total floors (levels) in house                               |\n",
    "| waterfront    | House which has a view to a waterfront                       |\n",
    "| view          | Has been viewed                                              |\n",
    "| condition     | How good the condition is ( Overall )                        |\n",
    "| grade         | overall grade given to the housing unit                      |\n",
    "| sqft_above    | square footage of house apart from basement                  |\n",
    "| sqft_basement | square footage of the basement                               |\n",
    "| yr_built      | Built Year                                                   |\n",
    "| yr_renovated  | Year when house was renovated                                |\n",
    "| zipcode       | zip                                                          |\n",
    "| lat           | Latitude coordinate                                          |\n",
    "| long          | Longitude coordinate                                         |\n",
    "| sqft_living15 | The square footage of interior housing living space for the nearest 15 neighbors |\n",
    "| sqft_lot15    | The square footage of the land lots of the nearest 15 neighbors |"
   ]
  },
  {
   "cell_type": "markdown",
   "metadata": {},
   "source": [
    "Of the 20 columns most notable is the price feature which will be our target during linear regression.\n",
    "\n",
    "Another thing to note is we have location data. This could be used to provide some insight into pricing by location, but may also be of use when delivering key information to our client."
   ]
  },
  {
   "cell_type": "markdown",
   "metadata": {},
   "source": [
    "## Data Cleaning"
   ]
  },
  {
   "cell_type": "markdown",
   "metadata": {},
   "source": [
    "For this section we will inspect our dataset cleaning up inconsistencies such as, null values, duplicates, and incorrect data types."
   ]
  },
  {
   "cell_type": "code",
   "execution_count": null,
   "metadata": {
    "ExecuteTime": {
     "end_time": "2020-05-22T06:24:10.281229Z",
     "start_time": "2020-05-22T06:24:09.510713Z"
    }
   },
   "outputs": [],
   "source": [
    "# import the required libraries\n",
    "import pandas as pd\n",
    "import numpy as np\n",
    "import matplotlib.pyplot as plt\n",
    "import seaborn as sns\n",
    "\n",
    "%matplotlib inline\n",
    "sns.set()"
   ]
  },
  {
   "cell_type": "code",
   "execution_count": null,
   "metadata": {
    "ExecuteTime": {
     "end_time": "2020-05-22T06:24:10.335976Z",
     "start_time": "2020-05-22T06:24:10.282725Z"
    }
   },
   "outputs": [],
   "source": [
    "# read in dataframe and output dataframe info\n",
    "df = pd.read_csv(\"kc_house_data.csv\")\n",
    "df.info()"
   ]
  },
  {
   "cell_type": "markdown",
   "metadata": {},
   "source": [
    "Our raw dataset contains **21597 records**, and has **21 features**.\n",
    "\n",
    "The data types found within our dataset are: `float64`, `int64`, `object`.\n",
    "\n",
    "Next we will inspect our features more closely, especially the ones which are of `object` data type. Just to make sure they're the correct data type."
   ]
  },
  {
   "cell_type": "code",
   "execution_count": null,
   "metadata": {
    "ExecuteTime": {
     "end_time": "2020-05-22T06:24:10.360403Z",
     "start_time": "2020-05-22T06:24:10.337589Z"
    }
   },
   "outputs": [],
   "source": [
    "# Output the first 5 rows\n",
    "display(df.head(5))"
   ]
  },
  {
   "cell_type": "markdown",
   "metadata": {},
   "source": [
    "The `date` column should be transformed to the `datetime` data type instead of `object`.\n",
    "\n",
    "The `sqft_basement` column needs to be further inspected, the values appear to be `float` there may be some `string` values."
   ]
  },
  {
   "cell_type": "code",
   "execution_count": null,
   "metadata": {
    "ExecuteTime": {
     "end_time": "2020-05-22T06:24:10.388780Z",
     "start_time": "2020-05-22T06:24:10.361748Z"
    }
   },
   "outputs": [],
   "source": [
    "# convert date column from string data type to a datetime\n",
    "df['date'] = pd.to_datetime(df['date'])"
   ]
  },
  {
   "cell_type": "code",
   "execution_count": null,
   "metadata": {
    "ExecuteTime": {
     "end_time": "2020-05-22T06:24:10.396925Z",
     "start_time": "2020-05-22T06:24:10.390092Z"
    }
   },
   "outputs": [],
   "source": [
    "# inspect the values of the sqft_basement column\n",
    "display(df['sqft_basement'].value_counts())"
   ]
  },
  {
   "cell_type": "markdown",
   "metadata": {},
   "source": [
    "There is a '?' value, this may mean that the value is unknown. We will replace this with a null value, and then convert the column into a float."
   ]
  },
  {
   "cell_type": "code",
   "execution_count": null,
   "metadata": {
    "ExecuteTime": {
     "end_time": "2020-05-22T06:24:10.406411Z",
     "start_time": "2020-05-22T06:24:10.398149Z"
    }
   },
   "outputs": [],
   "source": [
    "# replace ? with np.nan in the sqft_basement column and convert the column to float\n",
    "df['sqft_basement'] = df['sqft_basement'].replace('?', np.nan).astype('float64')"
   ]
  },
  {
   "cell_type": "code",
   "execution_count": null,
   "metadata": {
    "ExecuteTime": {
     "end_time": "2020-05-22T06:24:10.415946Z",
     "start_time": "2020-05-22T06:24:10.407759Z"
    }
   },
   "outputs": [],
   "source": [
    "# redisplay the values in the sqft_basement column\n",
    "display(df['sqft_basement'].value_counts())"
   ]
  },
  {
   "cell_type": "markdown",
   "metadata": {},
   "source": [
    "All our columns are now numeric, it's time to inspect for any interesting anomalies."
   ]
  },
  {
   "cell_type": "markdown",
   "metadata": {},
   "source": [
    "### Inspecting Distributions"
   ]
  },
  {
   "cell_type": "code",
   "execution_count": null,
   "metadata": {
    "ExecuteTime": {
     "end_time": "2020-05-22T06:24:19.584883Z",
     "start_time": "2020-05-22T06:24:10.417809Z"
    }
   },
   "outputs": [],
   "source": [
    "# plot a distribution plot for each feature\n",
    "fig, ax = plt.subplots(7, 3, figsize=(16, 9*3)) # 21 sub plots\n",
    "\n",
    "for col, axes in zip(df.columns, ax.flatten()):\n",
    "    sns.distplot(df[col], kde=False, rug=True, ax=axes)\n",
    "\n",
    "plt.show()"
   ]
  },
  {
   "cell_type": "markdown",
   "metadata": {},
   "source": [
    "Columns to disregard when cleaning:\n",
    "\n",
    "- `id`\n",
    "- `date`\n",
    "- `long`\n",
    "- `lat`\n",
    "- `zipcode`\n",
    "\n",
    "From the histograms it looks like we may want to drop the `yr_renovated` column, we will have to investigate further.\n",
    "\n",
    "There are quite a few columns which should be transformed into the `categorical` data type."
   ]
  },
  {
   "cell_type": "markdown",
   "metadata": {
    "heading_collapsed": true
   },
   "source": [
    "### Impute Inconsistencies"
   ]
  },
  {
   "cell_type": "markdown",
   "metadata": {
    "heading_collapsed": true,
    "hidden": true
   },
   "source": [
    "#### yr_renovated"
   ]
  },
  {
   "cell_type": "code",
   "execution_count": null,
   "metadata": {
    "ExecuteTime": {
     "end_time": "2020-05-22T06:24:20.002346Z",
     "start_time": "2020-05-22T06:24:19.586514Z"
    },
    "hidden": true
   },
   "outputs": [],
   "source": [
    "# inspect the yr_renovated column by plotting a violinplot\n",
    "fig, ax = plt.subplots(figsize=(16, 9))\n",
    "\n",
    "sns.violinplot('yr_renovated', data=df, width=.5)\n",
    "plt.show()"
   ]
  },
  {
   "cell_type": "code",
   "execution_count": null,
   "metadata": {
    "ExecuteTime": {
     "end_time": "2020-05-22T06:24:20.011043Z",
     "start_time": "2020-05-22T06:24:20.004789Z"
    },
    "hidden": true
   },
   "outputs": [],
   "source": [
    "# check the value counts for the y_renovated column\n",
    "display(df['yr_renovated'].value_counts().head())"
   ]
  },
  {
   "cell_type": "markdown",
   "metadata": {
    "hidden": true
   },
   "source": [
    "An extremely large percentage of the `yr_renovated` column has the value 0, meaning no renovation has occurred. Instead of removing the column, we can convert the values other than 0 to a 1. Giving us a usable feature instead of dropping one."
   ]
  },
  {
   "cell_type": "code",
   "execution_count": null,
   "metadata": {
    "ExecuteTime": {
     "end_time": "2020-05-22T06:24:20.026093Z",
     "start_time": "2020-05-22T06:24:20.012485Z"
    },
    "hidden": true
   },
   "outputs": [],
   "source": [
    "# transform the values other than 0 to a 1 in yr_renovated, and rename the column\n",
    "mask = df['yr_renovated'] != 0\n",
    "df.loc[mask, 'yr_renovated'] = 1\n",
    "df.rename(columns={'yr_renovated': 'renovated'}, inplace=True)"
   ]
  },
  {
   "cell_type": "markdown",
   "metadata": {
    "heading_collapsed": true,
    "hidden": true
   },
   "source": [
    "#### bedrooms"
   ]
  },
  {
   "cell_type": "markdown",
   "metadata": {
    "hidden": true
   },
   "source": [
    "Another column we see an error in is the `bedrooms` columns. There is a huge skew, maybe due to a typing error."
   ]
  },
  {
   "cell_type": "code",
   "execution_count": null,
   "metadata": {
    "ExecuteTime": {
     "end_time": "2020-05-22T06:24:20.034187Z",
     "start_time": "2020-05-22T06:24:20.027732Z"
    },
    "hidden": true
   },
   "outputs": [],
   "source": [
    "# output value counts\n",
    "display(df['bedrooms'].value_counts())"
   ]
  },
  {
   "cell_type": "markdown",
   "metadata": {
    "hidden": true
   },
   "source": [
    "The house with 33 bedrooms may be an typing error, most likely a room with 3 bedrooms, not 33 which would be highly unusual."
   ]
  },
  {
   "cell_type": "code",
   "execution_count": null,
   "metadata": {
    "ExecuteTime": {
     "end_time": "2020-05-22T06:24:20.043064Z",
     "start_time": "2020-05-22T06:24:20.036286Z"
    },
    "hidden": true
   },
   "outputs": [],
   "source": [
    "# change the 33 bedroom house to a 3 bedroom\n",
    "df.loc[df['bedrooms'] == 33, 'bedrooms'] = 3"
   ]
  },
  {
   "cell_type": "markdown",
   "metadata": {
    "heading_collapsed": true
   },
   "source": [
    "### NA Values"
   ]
  },
  {
   "cell_type": "code",
   "execution_count": null,
   "metadata": {
    "ExecuteTime": {
     "end_time": "2020-05-22T06:24:20.057172Z",
     "start_time": "2020-05-22T06:24:20.044767Z"
    },
    "hidden": true
   },
   "outputs": [],
   "source": [
    "# Output how many NA values we have\n",
    "display(df.isna().sum())"
   ]
  },
  {
   "cell_type": "markdown",
   "metadata": {
    "hidden": true
   },
   "source": [
    "For the `waterfront` and `view` columns, we will replace the na values with 0, to signify no waterfront and no views respectively.\n",
    "\n",
    "For the `sqft_basement` column we will replace the na values with 0, to signify there is no basement."
   ]
  },
  {
   "cell_type": "code",
   "execution_count": null,
   "metadata": {
    "ExecuteTime": {
     "end_time": "2020-05-22T06:24:20.067894Z",
     "start_time": "2020-05-22T06:24:20.059049Z"
    },
    "hidden": true
   },
   "outputs": [],
   "source": [
    "# replace the na values with 0 in waterfront, view, sqft_basement\n",
    "df.replace(np.nan, 0, inplace=True)\n",
    "display(df.isna().sum())"
   ]
  },
  {
   "cell_type": "markdown",
   "metadata": {
    "heading_collapsed": true
   },
   "source": [
    "### Outliers"
   ]
  },
  {
   "cell_type": "markdown",
   "metadata": {
    "hidden": true
   },
   "source": [
    "Since we've taken care of our null values, now we can focus on taking care of outliers which will significantly affect our linear regression in the future.\n",
    "\n",
    "We will first start with our `price` feature."
   ]
  },
  {
   "cell_type": "code",
   "execution_count": null,
   "metadata": {
    "ExecuteTime": {
     "end_time": "2020-05-22T06:24:20.346957Z",
     "start_time": "2020-05-22T06:24:20.070113Z"
    },
    "hidden": true
   },
   "outputs": [],
   "source": [
    "# show boxplot of price column\n",
    "fig, ax = plt.subplots(figsize=(16, 5))\n",
    "\n",
    "sns.boxplot('price', data=df, ax=ax, showmeans=True)\n",
    "\n",
    "plt.show()"
   ]
  },
  {
   "cell_type": "markdown",
   "metadata": {
    "hidden": true
   },
   "source": [
    "There appears to be a significant amount of outliers. Let's identify how many, and whether we should eliminate them."
   ]
  },
  {
   "cell_type": "code",
   "execution_count": null,
   "metadata": {
    "ExecuteTime": {
     "end_time": "2020-05-22T06:24:20.353178Z",
     "start_time": "2020-05-22T06:24:20.348383Z"
    },
    "hidden": true
   },
   "outputs": [],
   "source": [
    "# using iqr find outliers\n",
    "q1, q3 = np.quantile(df['price'], (.25, .75))\n",
    "iqr = q3 - q1\n",
    "low_bd, up_bd = q1 - iqr*1.5, q3 + iqr*1.5 # upper and lower bound of range\n",
    "mask = (df['price'] < low_bd) | (df['price'] > up_bd) # outliers mask\n",
    "\n",
    "outliers_mask = df.index[mask].to_numpy()"
   ]
  },
  {
   "cell_type": "code",
   "execution_count": null,
   "metadata": {
    "ExecuteTime": {
     "end_time": "2020-05-22T06:24:20.363506Z",
     "start_time": "2020-05-22T06:24:20.354338Z"
    },
    "hidden": true
   },
   "outputs": [],
   "source": [
    "# count our outliers\n",
    "display(f\"Outliers Count: {mask.sum()}\")\n",
    "display(f\"Outliers Percentage: {mask.sum()/df.shape[0]:.0%}\")"
   ]
  },
  {
   "cell_type": "markdown",
   "metadata": {
    "hidden": true
   },
   "source": [
    "Since we would only be removing approximately 5% of our dataset, 1158 data points, we will drop those rows."
   ]
  },
  {
   "cell_type": "code",
   "execution_count": null,
   "metadata": {
    "ExecuteTime": {
     "end_time": "2020-05-22T06:24:20.571538Z",
     "start_time": "2020-05-22T06:24:20.364821Z"
    },
    "hidden": true
   },
   "outputs": [],
   "source": [
    "# drop the data points which are price outliers and display a new boxplot of price\n",
    "df.drop(index=outliers_mask, inplace=True, errors='ignore') # ignore to allow re run\n",
    "\n",
    "fig, ax = plt.subplots(figsize=(16, 5))\n",
    "\n",
    "sns.boxplot(df['price'])\n",
    "plt.show()"
   ]
  },
  {
   "cell_type": "markdown",
   "metadata": {
    "hidden": true
   },
   "source": [
    "We've successfully removed the large amount of `price` outliers that were previously in our dataset."
   ]
  },
  {
   "cell_type": "markdown",
   "metadata": {
    "heading_collapsed": true
   },
   "source": [
    "### Type Conversion"
   ]
  },
  {
   "cell_type": "markdown",
   "metadata": {
    "hidden": true
   },
   "source": [
    "We will convert columns which should be categorical to their correct type.\n",
    "\n",
    "- bedrooms\n",
    "- bathrooms\n",
    "- floors\n",
    "- waterfront\n",
    "- view\n",
    "- condition\n",
    "- grade\n",
    "- renovated\n",
    "- zipcode"
   ]
  },
  {
   "cell_type": "code",
   "execution_count": null,
   "metadata": {
    "ExecuteTime": {
     "end_time": "2020-05-22T06:24:20.592940Z",
     "start_time": "2020-05-22T06:24:20.574221Z"
    },
    "hidden": true
   },
   "outputs": [],
   "source": [
    "# access and convert the categorical columns\n",
    "cat_cols = ['bedrooms', 'bathrooms', 'floors', 'waterfront', 'view',\n",
    "           'condition', 'grade', 'renovated', 'zipcode']\n",
    "\n",
    "df.loc[:, cat_cols] = df.loc[:, cat_cols].astype('category')"
   ]
  },
  {
   "cell_type": "code",
   "execution_count": null,
   "metadata": {
    "ExecuteTime": {
     "end_time": "2020-05-22T06:24:20.599753Z",
     "start_time": "2020-05-22T06:24:20.594442Z"
    },
    "hidden": true
   },
   "outputs": [],
   "source": [
    "# verify conversion\n",
    "display(df.dtypes)"
   ]
  },
  {
   "cell_type": "markdown",
   "metadata": {},
   "source": [
    "## Data Exploration"
   ]
  },
  {
   "cell_type": "markdown",
   "metadata": {},
   "source": [
    "We'll use some guided questions to help us explore our data easier.\n",
    "\n",
    "1. Using location data, where are the highest valued properties?\n",
    "2. Are waterfront properties significantly expensive than non waterfront properties?\n",
    "3. Is there a relationship between condition and pricing?"
   ]
  },
  {
   "cell_type": "markdown",
   "metadata": {
    "heading_collapsed": true
   },
   "source": [
    "### Location"
   ]
  },
  {
   "cell_type": "code",
   "execution_count": null,
   "metadata": {
    "ExecuteTime": {
     "end_time": "2020-05-22T06:24:20.982095Z",
     "start_time": "2020-05-22T06:24:20.602603Z"
    },
    "hidden": true
   },
   "outputs": [],
   "source": [
    "# import our libraries\n",
    "import plotly.express as px\n",
    "from plotly.offline import init_notebook_mode\n",
    "\n",
    "# connect to online cdn\n",
    "init_notebook_mode(connected=True)"
   ]
  },
  {
   "cell_type": "code",
   "execution_count": null,
   "metadata": {
    "ExecuteTime": {
     "end_time": "2020-05-22T06:24:21.890122Z",
     "start_time": "2020-05-22T06:24:20.983450Z"
    },
    "hidden": true
   },
   "outputs": [],
   "source": [
    "# plot pricing of houses across King County\n",
    "fig = px.scatter_mapbox(df.sort_values('price'), lat='lat', lon='long', color='price',\n",
    "                       color_continuous_scale=px.colors.sequential.BuGn,\n",
    "                       mapbox_style='carto-positron',\n",
    "                       center=dict(lat=df.lat.median(), lon=df.long.median()),\n",
    "                       title=\"House Prices in King County\")\n",
    "fig.show()"
   ]
  },
  {
   "cell_type": "markdown",
   "metadata": {
    "hidden": true
   },
   "source": [
    "There appears to be higher concentrations of high valued houses towards the north of King County, With the majority of those located on the waterfront, there may be other contributing factors since there are high valued houses scattered around King County."
   ]
  },
  {
   "cell_type": "markdown",
   "metadata": {
    "hidden": true
   },
   "source": [
    "Let's inspect by zip code the median house price, to get a better picture at which areas have higher valued houses."
   ]
  },
  {
   "cell_type": "code",
   "execution_count": null,
   "metadata": {
    "ExecuteTime": {
     "end_time": "2020-05-22T06:24:21.893161Z",
     "start_time": "2020-05-22T06:24:21.891385Z"
    },
    "hidden": true
   },
   "outputs": [],
   "source": [
    "# import json\n",
    "import json"
   ]
  },
  {
   "cell_type": "code",
   "execution_count": null,
   "metadata": {
    "ExecuteTime": {
     "end_time": "2020-05-22T06:24:22.126798Z",
     "start_time": "2020-05-22T06:24:21.894078Z"
    },
    "hidden": true
   },
   "outputs": [],
   "source": [
    "# load in geojson of king county zip codes\n",
    "with open('kc_zips.geojson') as f:\n",
    "    geojson = json.load(f)"
   ]
  },
  {
   "cell_type": "markdown",
   "metadata": {
    "hidden": true
   },
   "source": [
    "The King County zip codes geojson data was compiled from a larger dataset containing all US zip codes. The larger dataset can be found at: https://www.census.gov/geographies/mapping-files/time-series/geo/tiger-line-file.2019.html\n",
    "\n",
    "The downloaded data was then converted to a 1.4 GB geojson file by using https://mapshaper.org/. After which it was filtered for only zip codes in King County. "
   ]
  },
  {
   "cell_type": "code",
   "execution_count": null,
   "metadata": {
    "ExecuteTime": {
     "end_time": "2020-05-22T06:24:22.141603Z",
     "start_time": "2020-05-22T06:24:22.128232Z"
    },
    "hidden": true
   },
   "outputs": [],
   "source": [
    "# create grouped dataframe with median house price for each zip code\n",
    "zipcode_df = df.groupby('zipcode').median().reset_index()\n",
    "zipcode_df['zipcode'] = zipcode_df['zipcode'].astype(str)"
   ]
  },
  {
   "cell_type": "code",
   "execution_count": null,
   "metadata": {
    "ExecuteTime": {
     "end_time": "2020-05-22T06:24:23.967333Z",
     "start_time": "2020-05-22T06:24:22.142960Z"
    },
    "hidden": true
   },
   "outputs": [],
   "source": [
    "# plot median house price data on map by zipcode\n",
    "fig = px.choropleth_mapbox(zipcode_df, geojson=geojson, \n",
    "                          featureidkey='properties.ZCTA5CE10', locations='zipcode', \n",
    "                          color='price', mapbox_style='carto-positron', opacity=.4,\n",
    "                          center=dict(\n",
    "                              lat=zipcode_df.lat.median(),\n",
    "                              lon=zipcode_df.long.median()\n",
    "                          ), color_continuous_scale=px.colors.sequential.BuGn,  \n",
    "                          title=\"King County Median House Price by Zip Code\", )\n",
    "fig.show()"
   ]
  },
  {
   "cell_type": "markdown",
   "metadata": {
    "hidden": true
   },
   "source": [
    "The map shows us that the 3 zip codes with the highest median house prices are located in the centrally. **Those 3 zip codes are 98039, 98040, and 98004**.\n",
    "\n",
    "In the future it would be nice to reverse geocode the data we have, and see pricing by neighborhood."
   ]
  },
  {
   "cell_type": "markdown",
   "metadata": {
    "heading_collapsed": true
   },
   "source": [
    "### Waterfront Properties"
   ]
  },
  {
   "cell_type": "code",
   "execution_count": null,
   "metadata": {
    "ExecuteTime": {
     "end_time": "2020-05-22T06:24:23.971041Z",
     "start_time": "2020-05-22T06:24:23.969113Z"
    },
    "hidden": true
   },
   "outputs": [],
   "source": [
    "# immport our libraries\n",
    "from scipy import stats"
   ]
  },
  {
   "cell_type": "code",
   "execution_count": null,
   "metadata": {
    "ExecuteTime": {
     "end_time": "2020-05-22T06:24:24.421418Z",
     "start_time": "2020-05-22T06:24:23.972166Z"
    },
    "hidden": true
   },
   "outputs": [],
   "source": [
    "# plot two distplots of the different waterfront price values\n",
    "mask = df['waterfront'] == 1\n",
    "\n",
    "fig, ax = plt.subplots(figsize=(16, 9))\n",
    "\n",
    "sns.distplot(df.loc[mask, 'price'], norm_hist=True, ax=ax, label='waterfront')\n",
    "sns.distplot(df.loc[~mask, 'price'], norm_hist=True, ax=ax, label='non-waterfront')\n",
    "\n",
    "plt.show()"
   ]
  },
  {
   "cell_type": "markdown",
   "metadata": {
    "hidden": true
   },
   "source": [
    "These two groups don't look too different, but we can use some hypothesis testing to verify our assumptions.\n",
    "\n",
    "$\\mu_0:$ Waterfront House Mean Value\n",
    "\n",
    "$\\mu_1:$ Non-Waterfront House Mean Value\n",
    "\n",
    "$H_0: \\mu_0 = \\mu_1$\n",
    "\n",
    "$H_a: \\mu_0 \\ge \\mu_1$\n",
    "\n",
    "$\\alpha = $ 5%"
   ]
  },
  {
   "cell_type": "code",
   "execution_count": null,
   "metadata": {
    "ExecuteTime": {
     "end_time": "2020-05-22T06:24:24.537339Z",
     "start_time": "2020-05-22T06:24:24.423248Z"
    },
    "hidden": true
   },
   "outputs": [],
   "source": [
    "# seperate our two populations and also show some 5-point summary of them\n",
    "mask = df['waterfront'] == 1\n",
    "waterfront = df.loc[mask, 'price']\n",
    "nonwaterfront = df.loc[~mask, 'price']\n",
    "\n",
    "display(df.groupby('waterfront').describe()['price'])"
   ]
  },
  {
   "cell_type": "markdown",
   "metadata": {
    "hidden": true
   },
   "source": [
    "Our means are different by about $200,000, but our standard deviations are approximately the same."
   ]
  },
  {
   "cell_type": "code",
   "execution_count": null,
   "metadata": {
    "ExecuteTime": {
     "end_time": "2020-05-22T06:24:24.542566Z",
     "start_time": "2020-05-22T06:24:24.538595Z"
    },
    "hidden": true
   },
   "outputs": [],
   "source": [
    "# Run a welch's 2 sample t-test\n",
    "results = stats.ttest_ind(waterfront, nonwaterfront, equal_var=False)\n",
    "print(f\"T-Stat: {results.statistic:.3f}\", f\"P-Value: {results.pvalue:.8%}\", sep='\\n')"
   ]
  },
  {
   "cell_type": "markdown",
   "metadata": {
    "hidden": true
   },
   "source": [
    "It appears that we do have a statistically significantly difference between the two populations. For our stakeholders we will provide a simple visualization to drive the point home that waterfront properties are valued higher. "
   ]
  },
  {
   "cell_type": "code",
   "execution_count": null,
   "metadata": {
    "ExecuteTime": {
     "end_time": "2020-05-22T06:24:24.910973Z",
     "start_time": "2020-05-22T06:24:24.543720Z"
    },
    "hidden": true
   },
   "outputs": [],
   "source": [
    "# plot barplot of the two populations average value wiht a confidence level of 95%\n",
    "fig, ax = plt.subplots(figsize=(16, 9))\n",
    "\n",
    "sns.barplot(x='waterfront', y='price', data=df, ax=ax)\n",
    "\n",
    "plt.title('King County Average House Value of Waterfront/Non-Waterfront Properties')\n",
    "\n",
    "plt.xticks([0, 1], ['Non-Waterfront', 'Waterfront'])\n",
    "locs, labels = plt.yticks()\n",
    "plt.yticks(locs, [f\"{loc/1000:n}\" for loc in locs])\n",
    "\n",
    "plt.ylabel(\"Price (thousands USD)\")\n",
    "plt.xlabel(\"\")\n",
    "plt.show()"
   ]
  },
  {
   "cell_type": "markdown",
   "metadata": {},
   "source": [
    "### House Grade"
   ]
  },
  {
   "cell_type": "code",
   "execution_count": null,
   "metadata": {
    "ExecuteTime": {
     "end_time": "2020-05-22T06:24:25.245874Z",
     "start_time": "2020-05-22T06:24:24.912101Z"
    }
   },
   "outputs": [],
   "source": [
    "# distplot of the pricing distribution by grade\n",
    "fig, ax = plt.subplots(figsize=(16, 9))\n",
    "\n",
    "sns.boxplot('grade', 'price', data=df, ax=ax)\n",
    "\n",
    "plt.xlabel('House Grade')\n",
    "plt.ylabel('House Value (Thousands USD)')\n",
    "plt.title(\"Boxplots of House Value by Grade\")\n",
    "\n",
    "# configure y axis\n",
    "ticks = np.arange(0, df['price'].max() + 100000, 100000)\n",
    "plt.yticks(ticks, [f\"{tick/1000:n}\" for tick in ticks])\n",
    "\n",
    "plt.show()"
   ]
  },
  {
   "cell_type": "markdown",
   "metadata": {},
   "source": [
    "It appears there is some pattern between House Grade and price. It's extremely obvious by the fact that there is an increasing IQR for each House Grade. We can even see with an anova test, that these populations are completely differently priced.\n",
    "\n",
    "$\\alpha = $ 5%\n",
    "\n",
    "$H_0: \\mu_0 = \\mu_1 = \\mu_2 = \\mu_3 ... = \\mu_n$\n",
    "\n",
    "$H_a: \\mu_0 \\ne \\mu_1 \\ne \\mu_2 \\ne \\mu_3 ... \\ne \\mu_n$"
   ]
  },
  {
   "cell_type": "code",
   "execution_count": null,
   "metadata": {
    "ExecuteTime": {
     "end_time": "2020-05-22T06:24:25.254850Z",
     "start_time": "2020-05-22T06:24:25.247107Z"
    }
   },
   "outputs": [],
   "source": [
    "# Separate our samples by grade into a list\n",
    "samples = []\n",
    "for grade in df['grade'].unique():\n",
    "    mask = df['grade'] == grade\n",
    "    samples.append(df.loc[mask, 'price'])"
   ]
  },
  {
   "cell_type": "code",
   "execution_count": null,
   "metadata": {
    "ExecuteTime": {
     "end_time": "2020-05-22T06:24:25.262245Z",
     "start_time": "2020-05-22T06:24:25.256152Z"
    }
   },
   "outputs": [],
   "source": [
    "# perform an anova test and output results\n",
    "results = stats.f_oneway(*samples)\n",
    "print(f\"T-Stat: {results.statistic:.3f}\", f\"P-Value: {results.pvalue:.8%}\", sep='\\n')"
   ]
  },
  {
   "cell_type": "markdown",
   "metadata": {},
   "source": [
    "We can see here that we can reject the null hypothesis that the samples are derived from the same population, our test statistic is so large that our p-value is close to 0. For our stakeholders we will make this simple by\n",
    "creating a bar plot of the average house value for each house grade."
   ]
  },
  {
   "cell_type": "code",
   "execution_count": null,
   "metadata": {
    "ExecuteTime": {
     "end_time": "2020-05-22T06:26:59.388316Z",
     "start_time": "2020-05-22T06:26:58.771838Z"
    }
   },
   "outputs": [],
   "source": [
    "# plot bar plot of average house value by grade\n",
    "fig, ax = plt.subplots(figsize=(16, 9))\n",
    "\n",
    "sns.barplot('grade', 'price', data=df, ax=ax)\n",
    "plt.xlabel('House Grade')\n",
    "plt.ylabel('House Value (Thousands USD)')\n",
    "plt.title(\"Average House Value by Grade\")\n",
    "\n",
    "# configure y axis\n",
    "ticks = np.arange(0, df['price'].max(), 100000)\n",
    "plt.yticks(ticks, [f\"{tick/1000:n}\" for tick in ticks])\n",
    "\n",
    "plt.show()"
   ]
  }
 ],
 "metadata": {
  "kernelspec": {
   "display_name": "Python 3",
   "language": "python",
   "name": "python3"
  },
  "language_info": {
   "codemirror_mode": {
    "name": "ipython",
    "version": 3
   },
   "file_extension": ".py",
   "mimetype": "text/x-python",
   "name": "python",
   "nbconvert_exporter": "python",
   "pygments_lexer": "ipython3",
   "version": "3.8.3"
  },
  "notify_time": "10",
  "toc": {
   "base_numbering": 1,
   "nav_menu": {},
   "number_sections": true,
   "sideBar": true,
   "skip_h1_title": false,
   "title_cell": "Table of Contents",
   "title_sidebar": "Contents",
   "toc_cell": false,
   "toc_position": {
    "height": "calc(100% - 180px)",
    "left": "10px",
    "top": "150px",
    "width": "291px"
   },
   "toc_section_display": true,
   "toc_window_display": false
  }
 },
 "nbformat": 4,
 "nbformat_minor": 4
}
